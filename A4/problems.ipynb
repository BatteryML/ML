{
 "cells": [
  {
   "cell_type": "code",
   "execution_count": 1,
   "id": "ddd56162-ef3c-433a-a9af-616f8901bd7e",
   "metadata": {},
   "outputs": [],
   "source": [
    "%load_ext autoreload\n",
    "%autoreload 2"
   ]
  },
  {
   "cell_type": "markdown",
   "id": "0d3bceb0-e4bc-44f8-87fe-77f50af54256",
   "metadata": {},
   "source": [
    "# imports"
   ]
  },
  {
   "cell_type": "code",
   "execution_count": 2,
   "id": "35475026-12ef-4e07-a0db-809a08bcadcd",
   "metadata": {},
   "outputs": [],
   "source": [
    "from hiive.mdptoolbox.example import forest\n",
    "from hiive.mdptoolbox.util import check\n",
    "import gymnasium as gym\n",
    "from gymnasium.envs.toy_text.frozen_lake import generate_random_map\n",
    "import re\n",
    "import numpy as np"
   ]
  },
  {
   "cell_type": "markdown",
   "id": "8dadc70b-90cd-455c-989d-c0aebb223c4e",
   "metadata": {},
   "source": [
    "# forest management"
   ]
  },
  {
   "cell_type": "markdown",
   "id": "aa951c5b-4bb3-4336-a071-5cc429d60d3d",
   "metadata": {},
   "source": [
    "https://pymdptoolbox.readthedocs.io/en/latest/api/example.html  \n",
    "A forest is managed by two actions: ‘Wait’ and ‘Cut’. An action is decided each year with first the objective to maintain an old forest for wildlife and second to make money selling cut wood. Each year there is a probability p that a fire burns the forest.  \n",
    "Here is how the problem is modelled. Let {0, 1 . . . S-1 } be the states of the forest, with S-1 being the oldest. Let ‘Wait’ be action 0 and ‘Cut’ be action 1. After a fire, the forest is in the youngest state, that is state 0. "
   ]
  },
  {
   "cell_type": "code",
   "execution_count": 3,
   "id": "34b30778-4b10-43aa-81d0-48faba38194b",
   "metadata": {},
   "outputs": [
    {
     "name": "stdout",
     "output_type": "stream",
     "text": [
      "\n"
     ]
    }
   ],
   "source": [
    "'''\n",
    "transition probability (A × S × S) array P\n",
    "           | p 1-p 0.......0  |\n",
    "           | .  0 1-p 0....0  |\n",
    "P[0,:,:] = | .  .  0  .       |\n",
    "           | .  .        .    |\n",
    "           | .  .         1-p |\n",
    "           | p  0  0....0 1-p |\n",
    "\n",
    "           | 1 0..........0 |\n",
    "           | . .          . |\n",
    "P[1,:,:] = | . .          . |\n",
    "           | . .          . |\n",
    "           | . .          . |\n",
    "           | 1 0..........0 |\n",
    "reward (S × A) matrix R\n",
    "         |  0  |\n",
    "         |  .  |\n",
    "R[:,0] = |  .  |\n",
    "         |  .  |\n",
    "         |  0  |\n",
    "         |  r1 |\n",
    "\n",
    "         |  0  |\n",
    "         |  1  |\n",
    "R[:,1] = |  .  |\n",
    "         |  .  |\n",
    "         |  1  |\n",
    "         |  r2 |\n",
    "'''\n",
    "print()"
   ]
  },
  {
   "cell_type": "code",
   "execution_count": 4,
   "id": "f511a03c-681a-45b8-bc71-631c4f71da94",
   "metadata": {},
   "outputs": [],
   "source": [
    "P_forest_small, R_forest_small = forest(S=10, r1=10, r2=2, p=0.1)\n",
    "check(P_forest_small, R_forest_small)"
   ]
  },
  {
   "cell_type": "code",
   "execution_count": 5,
   "id": "807ac067-55b4-4f67-b1e5-3370b6dd37e5",
   "metadata": {},
   "outputs": [],
   "source": [
    "P_forest_large, R_forest_large = forest(S=500, r1=40, r2=20, p=0.1)\n",
    "check(P_forest_large, R_forest_large)"
   ]
  },
  {
   "cell_type": "markdown",
   "id": "aadb284d-5f8d-4746-8278-f6455039c154",
   "metadata": {},
   "source": [
    "# frozen lake"
   ]
  },
  {
   "cell_type": "markdown",
   "id": "6e8d8349-e154-4978-a9f8-320dae046103",
   "metadata": {},
   "source": [
    "https://gymnasium.farama.org/environments/toy_text/frozen_lake/  \n",
    "Frozen lake involves crossing a frozen lake from Start(S) to Goal(G) without falling into any Holes(H) by walking over the Frozen(F) lake. The agent may not always move in the intended direction due to the slippery nature of the frozen lake.  \n",
    "Action Space  \n",
    "The agent takes a 1-element vector for actions. The action space is (dir), where dir decides direction to move in which can be:\n",
    "\n",
    "0: LEFT\n",
    "\n",
    "1: DOWN\n",
    "\n",
    "2: RIGHT\n",
    "\n",
    "3: UP\n",
    "\n",
    "Observation Space  \n",
    "The observation is a value representing the agent’s current position as current_row * nrows + current_col (where both the row and col start at 0). For example, the goal position in the 4x4 map can be calculated as follows: 3 * 4 + 3 = 15. The number of possible observations is dependent on the size of the map. For example, the 4x4 map has 16 possible observations.\n",
    "\n",
    "Rewards  \n",
    "Reward schedule:\n",
    "\n",
    "Reach goal(G): +1\n",
    "\n",
    "Reach hole(H): 0\n",
    "\n",
    "Reach frozen(F): 0\n",
    "\n",
    "Slippery world  \n",
    "Move in intended direction with probability of 1/3 else will move in either perpendicular direction with equal probability of 1/3 in both directions.\n",
    "\n",
    "For example, if action is left and is_slippery is True, then:\n",
    "- P(move left)=1/3\n",
    "- P(move up)=1/3\n",
    "- P(move down)=1/3"
   ]
  },
  {
   "cell_type": "code",
   "execution_count": 6,
   "id": "d9e148a7-60ca-440d-8a86-ccda3173767c",
   "metadata": {},
   "outputs": [
    {
     "data": {
      "text/plain": [
       "['SFFF', 'FFFF', 'HFFF', 'HFFG']"
      ]
     },
     "execution_count": 6,
     "metadata": {},
     "output_type": "execute_result"
    }
   ],
   "source": [
    "generate_random_map(size=4, p=0.8) # p: probability that a tile is frozen"
   ]
  },
  {
   "cell_type": "code",
   "execution_count": 7,
   "id": "b21f9e4b-0d4a-466b-9445-b433d6d6c1eb",
   "metadata": {},
   "outputs": [
    {
     "data": {
      "text/plain": [
       "['SFFHFHFFFHFFFFH',\n",
       " 'FFFFFFHFFFFFHHF',\n",
       " 'FFFFHFFHFHHFFFF',\n",
       " 'FFFFFFFFFFFFHHF',\n",
       " 'FFFFFFFFFFFFHFH',\n",
       " 'FFFHFFHHHFFFFFH',\n",
       " 'FFFFFFFHFFHFFFF',\n",
       " 'FFFFFHFFFFFFFFF',\n",
       " 'FHFFFFHHFFFFFFF',\n",
       " 'FHFFFFFFFHHHFHF',\n",
       " 'FHFFFFFFFFHFFFF',\n",
       " 'FFFHFFFFFFFFFFF',\n",
       " 'HFFFFFFFFHFFFFF',\n",
       " 'FFFHFFFFFFFFFHH',\n",
       " 'FFHFFFFFFFFFFFG']"
      ]
     },
     "execution_count": 7,
     "metadata": {},
     "output_type": "execute_result"
    }
   ],
   "source": [
    "generate_random_map(size=15, p=0.8)"
   ]
  },
  {
   "cell_type": "code",
   "execution_count": 8,
   "id": "f9a37e28-bb6f-4906-b84d-6b3c98a74686",
   "metadata": {},
   "outputs": [
    {
     "data": {
      "text/plain": [
       "['SFFFFFFFFFFFFFFFFFFH',\n",
       " 'FHFFFFFFFFFHFFFFFFFF',\n",
       " 'FFHFFFFFFFFFFFFFFHFH',\n",
       " 'FFFFFFFFFFFFFFFFFFFF',\n",
       " 'FFHFFFFFFHFFHFFFFFFF',\n",
       " 'FFFFFFFFFFFFFFFFFFFF',\n",
       " 'FFFFFFFFFFFFFFHFFFHF',\n",
       " 'FFFFFFFFFFFFFFFFFFFF',\n",
       " 'FFHFFFFFFHFHFFFFFFFF',\n",
       " 'FFFFFFFFFFFFHHFFFFFF',\n",
       " 'FFFFFFFFHFFFFFFFFHFF',\n",
       " 'FFFFFFFFHFFFFFFFFFHF',\n",
       " 'FFFFFFFFFFFFFFFFFFFF',\n",
       " 'FFFFFFFFFFFFFFHFFFFF',\n",
       " 'FFFHFFFFFFFFFFFFFFFF',\n",
       " 'FFHFFFFFFFFFFFFFFFFF',\n",
       " 'FFFFFFFFFFFFFHFFFHFF',\n",
       " 'FFFFFHFFFFFFFHFFFFFF',\n",
       " 'FFFFFFFFFFFFFFFFFFFF',\n",
       " 'FFHFFFFFFFFFFFFFFFHG']"
      ]
     },
     "execution_count": 8,
     "metadata": {},
     "output_type": "execute_result"
    }
   ],
   "source": [
    "generate_random_map(size=20, p=0.9)"
   ]
  },
  {
   "cell_type": "code",
   "execution_count": 9,
   "id": "a2f106fd-6ec2-418d-b077-ab3e0e191f44",
   "metadata": {},
   "outputs": [],
   "source": [
    "map4 = ['SFFH', 'FFFF', 'FFFF', 'FFHG']\n",
    "map15 = ['SFFFFFHHHFFHFFF', 'FFFFFFFFFHFFFFF', 'HFFFFFFFFFFFHFH', 'FFFHFFFFFFFFFFF', \n",
    "         'HFFFFHFFFFFFFFF', 'FFFFFFFFFHFHFFF', 'FFHFFFFFFFFFFFF', 'FFFFFFFFFHFFFHF', \n",
    "         'HFFFFFFFFFFFFHH', 'FHFFFFFHHFFHHFF', 'FFFHFFFFFFFFFFF', 'HHHHFFHFHFHFFHF', \n",
    "         'FHFFFFFFFFFFFFF', 'FHFFFFFFFHHFFFF', 'FHFFFFFFHFFFFFG']"
   ]
  },
  {
   "cell_type": "code",
   "execution_count": 10,
   "id": "19ae0bc2-a46e-49d9-8726-e39905b48841",
   "metadata": {},
   "outputs": [],
   "source": [
    "lake_small = gym.make('FrozenLake-v1', desc=map4, is_slippery=True, render_mode=\"rgb_array\")"
   ]
  },
  {
   "cell_type": "code",
   "execution_count": 11,
   "id": "27b2569b-0168-493c-9bc3-ae4fac52bbb5",
   "metadata": {},
   "outputs": [
    {
     "name": "stdout",
     "output_type": "stream",
     "text": [
      "[['S' 'F' 'F' 'H']\n",
      " ['F' 'F' 'F' 'F']\n",
      " ['F' 'F' 'F' 'F']\n",
      " ['F' 'F' 'H' 'G']]\n"
     ]
    }
   ],
   "source": [
    "print(lake_small.desc.astype('str'))"
   ]
  },
  {
   "cell_type": "code",
   "execution_count": 12,
   "id": "549066d8-f64c-468a-9ef5-4b6a8e1d4b39",
   "metadata": {},
   "outputs": [
    {
     "data": {
      "text/plain": [
       "16"
      ]
     },
     "execution_count": 12,
     "metadata": {},
     "output_type": "execute_result"
    }
   ],
   "source": [
    "lake_small.observation_space.n"
   ]
  },
  {
   "cell_type": "code",
   "execution_count": 13,
   "id": "7808a078-4c8e-44f2-931d-692ae178c014",
   "metadata": {},
   "outputs": [
    {
     "data": {
      "text/plain": [
       "4"
      ]
     },
     "execution_count": 13,
     "metadata": {},
     "output_type": "execute_result"
    }
   ],
   "source": [
    "lake_small.action_space.n"
   ]
  },
  {
   "cell_type": "code",
   "execution_count": 14,
   "id": "b8fba7ad-f4fc-4102-b34c-c5f34f69bae8",
   "metadata": {},
   "outputs": [
    {
     "data": {
      "text/plain": [
       "16"
      ]
     },
     "execution_count": 14,
     "metadata": {},
     "output_type": "execute_result"
    }
   ],
   "source": [
    "len(lake_small.P)"
   ]
  },
  {
   "cell_type": "code",
   "execution_count": 15,
   "id": "86b41f4b-b3da-4d69-84ff-ccdeae1e0fe6",
   "metadata": {},
   "outputs": [],
   "source": [
    "def convert_gym(env):\n",
    "    '''\n",
    "    Converts the transition probabilities provided by gymnasium envrionment to \n",
    "    MDPToolbox-compatible P and R arrays\n",
    "    modified from https://github.com/hiive/hiivemdptoolbox/blob/master/hiive/mdptoolbox/openai.py\n",
    "    \n",
    "    gymnasium env.P format:\n",
    "    {state1: {action1: [(prob_to_newstate1, newstate1, reward, terminated (boolean)),\n",
    "                        (prob_to_newstate2, newstate2, reward, terminated (boolean)),\n",
    "                        ...],\n",
    "             action2: [(prob_to_newstate1, newstate1, reward, terminated (boolean)),\n",
    "                        (prob_to_newstate2, newstate2, reward, terminated (boolean)),\n",
    "                        ...],\n",
    "             ...\n",
    "            },\n",
    "     state2: ... \n",
    "    }\n",
    "\n",
    "    mdptoolbox P format: (A × S × S)\n",
    "    mdptoolbox R format: (S × A)\n",
    "    '''\n",
    "    env.reset()\n",
    "\n",
    "    transitions = env.P\n",
    "    actions = int(re.findall(r'\\d+', str(env.action_space))[0])\n",
    "    states = int(re.findall(r'\\d+', str(env.observation_space))[0])\n",
    "    P = np.zeros((actions, states, states))\n",
    "    R = np.zeros((states, actions))\n",
    "\n",
    "    for state in range(states):\n",
    "        for action in range(actions):\n",
    "            for i in range(len(transitions[state][action])):\n",
    "                tran_prob = transitions[state][action][i][0]\n",
    "                state_ = transitions[state][action][i][1]\n",
    "                R[state][action] += tran_prob*transitions[state][action][i][2]\n",
    "                P[action, state, state_] += tran_prob\n",
    "    return P, R"
   ]
  },
  {
   "cell_type": "code",
   "execution_count": 16,
   "id": "173948b4-6ea8-4eae-86f2-3382ae566384",
   "metadata": {},
   "outputs": [],
   "source": [
    "lake_small = gym.make('FrozenLake-v1', desc=[['S', 'H'],\n",
    "                                             ['F', 'G']], \n",
    "                      is_slippery=False, render_mode=\"rgb_array\")\n",
    "P, R = convert_gym(lake_small)"
   ]
  },
  {
   "cell_type": "code",
   "execution_count": 17,
   "id": "e6412259-f231-4706-9341-1104cf36d29d",
   "metadata": {},
   "outputs": [
    {
     "data": {
      "text/plain": [
       "array([[[1., 0., 0., 0.],\n",
       "        [0., 1., 0., 0.],\n",
       "        [0., 0., 1., 0.],\n",
       "        [0., 0., 0., 1.]],\n",
       "\n",
       "       [[0., 0., 1., 0.],\n",
       "        [0., 1., 0., 0.],\n",
       "        [0., 0., 1., 0.],\n",
       "        [0., 0., 0., 1.]],\n",
       "\n",
       "       [[0., 1., 0., 0.],\n",
       "        [0., 1., 0., 0.],\n",
       "        [0., 0., 0., 1.],\n",
       "        [0., 0., 0., 1.]],\n",
       "\n",
       "       [[1., 0., 0., 0.],\n",
       "        [0., 1., 0., 0.],\n",
       "        [1., 0., 0., 0.],\n",
       "        [0., 0., 0., 1.]]])"
      ]
     },
     "execution_count": 17,
     "metadata": {},
     "output_type": "execute_result"
    }
   ],
   "source": [
    "P"
   ]
  },
  {
   "cell_type": "code",
   "execution_count": 18,
   "id": "698096c6-07c3-416a-94ec-d8a06b9ac71b",
   "metadata": {},
   "outputs": [
    {
     "data": {
      "text/plain": [
       "array([[0., 0., 0., 0.],\n",
       "       [0., 0., 0., 0.],\n",
       "       [0., 0., 1., 0.],\n",
       "       [0., 0., 0., 0.]])"
      ]
     },
     "execution_count": 18,
     "metadata": {},
     "output_type": "execute_result"
    }
   ],
   "source": [
    "R"
   ]
  },
  {
   "cell_type": "code",
   "execution_count": null,
   "id": "00d8b530-88c5-4bbe-881d-2abbb83e0d0d",
   "metadata": {},
   "outputs": [],
   "source": []
  }
 ],
 "metadata": {
  "kernelspec": {
   "display_name": "Python 3 (ipykernel)",
   "language": "python",
   "name": "python3"
  },
  "language_info": {
   "codemirror_mode": {
    "name": "ipython",
    "version": 3
   },
   "file_extension": ".py",
   "mimetype": "text/x-python",
   "name": "python",
   "nbconvert_exporter": "python",
   "pygments_lexer": "ipython3",
   "version": "3.9.13"
  },
  "toc-autonumbering": true
 },
 "nbformat": 4,
 "nbformat_minor": 5
}
